{
 "cells": [
  {
   "cell_type": "code",
   "execution_count": 1,
   "metadata": {},
   "outputs": [],
   "source": [
    "import numpy as np\n",
    "from collections import *"
   ]
  },
  {
   "cell_type": "code",
   "execution_count": null,
   "metadata": {},
   "outputs": [],
   "source": [
    "### Assignment ###\n"
   ]
  },
  {
   "cell_type": "code",
   "execution_count": 3,
   "metadata": {
    "scrolled": true
   },
   "outputs": [
    {
     "name": "stdout",
     "output_type": "stream",
     "text": [
      "1\n",
      "2\n"
     ]
    }
   ],
   "source": [
    "a, x = 1, 2 \n",
    "print(a)  # 1\n",
    "print(x)  # 2 "
   ]
  },
  {
   "cell_type": "code",
   "execution_count": 4,
   "metadata": {},
   "outputs": [],
   "source": [
    "### Strings ###"
   ]
  },
  {
   "cell_type": "code",
   "execution_count": 5,
   "metadata": {
    "scrolled": true
   },
   "outputs": [
    {
     "name": "stdout",
     "output_type": "stream",
     "text": [
      "8\n"
     ]
    },
    {
     "data": {
      "text/plain": [
       "False"
      ]
     },
     "execution_count": 5,
     "metadata": {},
     "output_type": "execute_result"
    }
   ],
   "source": [
    "str1 = 'Cake 4 U'\n",
    "print(len(str1))\n",
    "str1.isdigit()"
   ]
  },
  {
   "cell_type": "code",
   "execution_count": 6,
   "metadata": {},
   "outputs": [
    {
     "data": {
      "text/plain": [
       "True"
      ]
     },
     "execution_count": 6,
     "metadata": {},
     "output_type": "execute_result"
    }
   ],
   "source": [
    "str2 = '404'\n",
    "str2.isdigit()"
   ]
  },
  {
   "cell_type": "code",
   "execution_count": 7,
   "metadata": {},
   "outputs": [
    {
     "data": {
      "text/plain": [
       "'Cake 404'"
      ]
     },
     "execution_count": 7,
     "metadata": {},
     "output_type": "execute_result"
    }
   ],
   "source": [
    "str1.replace('4 U', str2)"
   ]
  },
  {
   "cell_type": "code",
   "execution_count": 8,
   "metadata": {},
   "outputs": [
    {
     "data": {
      "text/plain": [
       "0"
      ]
     },
     "execution_count": 8,
     "metadata": {},
     "output_type": "execute_result"
    }
   ],
   "source": [
    "str1 = 'cookie'\n",
    "str2 = 'cook'\n",
    "str1.find(str2)"
   ]
  },
  {
   "cell_type": "code",
   "execution_count": 9,
   "metadata": {},
   "outputs": [
    {
     "data": {
      "text/plain": [
       "12"
      ]
     },
     "execution_count": 9,
     "metadata": {},
     "output_type": "execute_result"
    }
   ],
   "source": [
    "str1 = 'I got you a cookie'\n",
    "str2 = 'cook'\n",
    "str1.find(str2)"
   ]
  },
  {
   "cell_type": "code",
   "execution_count": 10,
   "metadata": {},
   "outputs": [
    {
     "name": "stdout",
     "output_type": "stream",
     "text": [
      "a\n",
      "bcd\n",
      "a\n",
      "bc\n",
      "\n",
      "d\n",
      "abcd\n",
      "abcd\n"
     ]
    }
   ],
   "source": [
    "s = \"abcd\"\n",
    "print(s[0] ) # a\n",
    "print(s[1:])  # bcd\n",
    "print(s[:1])  # a\n",
    "print(s[1:3])  # bc (including index 1, not including index 3)\n",
    "print(s[4:])  # This returns empty string, not causing an error! \n",
    "# print(s[4]) # index out of range error\n",
    "print(s[3])  # d\n",
    "# print(s[5])  # This causes index error. \n",
    "print(s[:])  # abcd \n",
    "print(s[:20]) # ok"
   ]
  },
  {
   "cell_type": "code",
   "execution_count": 11,
   "metadata": {},
   "outputs": [],
   "source": [
    "s = \"\"\n",
    "# print(s[0]) # error"
   ]
  },
  {
   "cell_type": "code",
   "execution_count": 12,
   "metadata": {
    "scrolled": false
   },
   "outputs": [
    {
     "name": "stdout",
     "output_type": "stream",
     "text": [
      "udaci\n",
      "dct\n",
      "uaiy\n",
      "yticadu\n",
      "cad\n"
     ]
    }
   ],
   "source": [
    "s = \"udacity\"\n",
    "print(s[:-2])  # udaci \n",
    "print(s[1:7:2])  # dct (from 1 to 6 every 2 characters)\n",
    "print(s[::2])  # uaiy \n",
    "print(s[::-1])  # yticadu (This is useful to check if it is palindrome.)\n",
    "print(s[3:0:-1])  # cad "
   ]
  },
  {
   "cell_type": "code",
   "execution_count": 13,
   "metadata": {},
   "outputs": [
    {
     "data": {
      "text/plain": [
       "['y', 't', 'i', 'c', 'a', 'd', 'u']"
      ]
     },
     "execution_count": 13,
     "metadata": {},
     "output_type": "execute_result"
    }
   ],
   "source": [
    "s_rev = list(s)\n",
    "s_rev.reverse()\n",
    "s_rev"
   ]
  },
  {
   "cell_type": "code",
   "execution_count": 14,
   "metadata": {},
   "outputs": [],
   "source": [
    "### Lists ###"
   ]
  },
  {
   "cell_type": "code",
   "execution_count": 15,
   "metadata": {},
   "outputs": [
    {
     "name": "stdout",
     "output_type": "stream",
     "text": [
      "Delhi\n"
     ]
    }
   ],
   "source": [
    "# You can mix types. \n",
    "countries = [['China','Beijing',1350],\n",
    "             ['India','Delhi',1210],\n",
    "             ['Romania','Bucharest',21],\n",
    "             ['United States','Washington',307]]\n",
    "             \n",
    "print(countries[1][1]) # Delhi"
   ]
  },
  {
   "cell_type": "code",
   "execution_count": 16,
   "metadata": {},
   "outputs": [
    {
     "name": "stdout",
     "output_type": "stream",
     "text": [
      "[1, 2, [3, 4]]\n"
     ]
    },
    {
     "data": {
      "text/plain": [
       "3"
      ]
     },
     "execution_count": 16,
     "metadata": {},
     "output_type": "execute_result"
    }
   ],
   "source": [
    "p = [1, 2]\n",
    "q = [3, 4]\n",
    "p.append(q)\n",
    "print(p) # [1, 2, [3, 4]]\n",
    "len(p) # 3"
   ]
  },
  {
   "cell_type": "code",
   "execution_count": 17,
   "metadata": {},
   "outputs": [
    {
     "name": "stdout",
     "output_type": "stream",
     "text": [
      "[1, 2, 3, 4]\n"
     ]
    },
    {
     "data": {
      "text/plain": [
       "4"
      ]
     },
     "execution_count": 17,
     "metadata": {},
     "output_type": "execute_result"
    }
   ],
   "source": [
    "p = [1, 2]\n",
    "q = [3, 4]\n",
    "print(p + q)\n",
    "len(p + q) # 4"
   ]
  },
  {
   "cell_type": "code",
   "execution_count": 18,
   "metadata": {},
   "outputs": [
    {
     "name": "stdout",
     "output_type": "stream",
     "text": [
      "True\n"
     ]
    }
   ],
   "source": [
    "p = [0, 1, 2]\n",
    "print(2 in p) # True "
   ]
  },
  {
   "cell_type": "code",
   "execution_count": 19,
   "metadata": {},
   "outputs": [
    {
     "name": "stdout",
     "output_type": "stream",
     "text": [
      "[0, 1, 2]\n",
      "[0, 1, 2]\n",
      "[0, 1]\n",
      "[0]\n",
      "p: []\n",
      "q: [2, 1, 0]\n"
     ]
    }
   ],
   "source": [
    "q = []\n",
    "# p returns true if it has at least one entry. \n",
    "print(p)\n",
    "while p: \n",
    "    print(p)\n",
    "    q.append(p.pop())\n",
    "    \n",
    "print('p: {}'.format(p)) \n",
    "print('q: {}'.format(q)) "
   ]
  },
  {
   "cell_type": "code",
   "execution_count": 20,
   "metadata": {},
   "outputs": [],
   "source": [
    "# If p is empty list, we do not execute any of this. \n",
    "p = []\n",
    "for n in p:\n",
    "    ans = ans * n"
   ]
  },
  {
   "cell_type": "code",
   "execution_count": 21,
   "metadata": {},
   "outputs": [
    {
     "name": "stdout",
     "output_type": "stream",
     "text": [
      "[1, 2, 3, 4, 5, 6]\n"
     ]
    }
   ],
   "source": [
    "list1 = [1,2,3,4]\n",
    "list1 = list1 + [5, 6]\n",
    "print(list1) # [1, 2, 3, 4, 5, 6]"
   ]
  },
  {
   "cell_type": "code",
   "execution_count": 22,
   "metadata": {},
   "outputs": [
    {
     "name": "stdout",
     "output_type": "stream",
     "text": [
      "[1, 2, 3, 4, [5, 6]]\n"
     ]
    }
   ],
   "source": [
    "# append\n",
    "list2 = [1,2,3,4]\n",
    "list2.append([5, 6])\n",
    "print(list2) # [1, 2, 3, 4, [5, 6]]"
   ]
  },
  {
   "cell_type": "code",
   "execution_count": 23,
   "metadata": {
    "scrolled": true
   },
   "outputs": [
    {
     "name": "stdout",
     "output_type": "stream",
     "text": [
      "[1, 2, 3, 4, 5, 6]\n"
     ]
    }
   ],
   "source": [
    "# extend\n",
    "list2 = [1,2,3,4]\n",
    "list2.extend([5, 6])\n",
    "print(list2) # [1, 2, 3, 4, 5, 6]"
   ]
  },
  {
   "cell_type": "code",
   "execution_count": 24,
   "metadata": {},
   "outputs": [
    {
     "name": "stdout",
     "output_type": "stream",
     "text": [
      "c: ['c']\n",
      "la: ['a', 'b', 'a', 'b']\n",
      "d: []\n",
      "lb: ['a', 'b']\n",
      "ab\n"
     ]
    }
   ],
   "source": [
    "c = []\n",
    "d = []\n",
    "\n",
    "def ap(_d=None):\n",
    "    d.append('a')\n",
    "    d.append('b')\n",
    "    _d.append('c')\n",
    "\n",
    "ap(c)\n",
    "print('c:', c)\n",
    "\n",
    "ap(c)\n",
    "la = d.copy()\n",
    "print('la:', la)\n",
    "d.clear()\n",
    "print('d:', d)\n",
    "ap(c)\n",
    "lb = d.copy()\n",
    "print('lb:', lb)\n",
    "\n",
    "print(''.join(lb))\n"
   ]
  },
  {
   "cell_type": "code",
   "execution_count": 5,
   "metadata": {},
   "outputs": [
    {
     "name": "stdout",
     "output_type": "stream",
     "text": [
      "[0, 1]\n",
      "[0, 1, 2]\n"
     ]
    }
   ],
   "source": [
    "a = [0, 1, 2]\n",
    "b = a[:-1]\n",
    "print(b)\n",
    "b = a[0:]\n",
    "print(b)"
   ]
  },
  {
   "cell_type": "code",
   "execution_count": 1,
   "metadata": {},
   "outputs": [
    {
     "data": {
      "text/plain": [
       "[0, 1]"
      ]
     },
     "execution_count": 1,
     "metadata": {},
     "output_type": "execute_result"
    }
   ],
   "source": [
    "a = [0, 1, 2]\n",
    "a.pop()\n",
    "a"
   ]
  },
  {
   "cell_type": "code",
   "execution_count": 2,
   "metadata": {},
   "outputs": [
    {
     "data": {
      "text/plain": [
       "[1, 2]"
      ]
     },
     "execution_count": 2,
     "metadata": {},
     "output_type": "execute_result"
    }
   ],
   "source": [
    "a = [0, 1, 2]\n",
    "a.pop(0)\n",
    "a"
   ]
  },
  {
   "cell_type": "code",
   "execution_count": 1,
   "metadata": {},
   "outputs": [
    {
     "name": "stdout",
     "output_type": "stream",
     "text": [
      "[[1, 2]]\n",
      "[[1, 2, 3]]\n",
      "[[1, 2, 3], [1, 2, 3]]\n",
      "[[1, 2], [1, 2]]\n",
      "[[1, 2], [1, 2], [1, 2]]\n",
      "[[1, 2, 3], [1, 2, 3], [1, 2]]\n"
     ]
    }
   ],
   "source": [
    "a = [1, 2]\n",
    "b = []\n",
    "b.append(a)\n",
    "print(b)  # [[1, 2]]\n",
    "a += [3]\n",
    "print(b)  # [[1, 2, 3]]\n",
    "b.append(a)\n",
    "print(b)  # [[1, 2, 3], [1, 2, 3]]\n",
    "a.pop()\n",
    "print(b)  # [[1, 2], [1, 2]]\n",
    "b.append(a[:])  # Create a new list containing elements in list a.\n",
    "print(b)  # [[1, 2], [1, 2], [1, 2]]\n",
    "a += [3]\n",
    "print(b)  # [[1, 2, 3], [1, 2, 3], [1, 2]]\n",
    "# The last one is not added by 3 because it's a different list. \n"
   ]
  },
  {
   "cell_type": "code",
   "execution_count": 5,
   "metadata": {},
   "outputs": [
    {
     "name": "stdout",
     "output_type": "stream",
     "text": [
      "[]\n",
      "[]\n",
      "[3]\n"
     ]
    }
   ],
   "source": [
    "a = [3]\n",
    "print(a[1:]) # []\n",
    "# print(a[1]) # index out of range\n",
    "print(a[2:4])  # []\n",
    "print(a[:5])  # [3]\n"
   ]
  },
  {
   "cell_type": "code",
   "execution_count": 2,
   "metadata": {},
   "outputs": [
    {
     "name": "stdout",
     "output_type": "stream",
     "text": [
      "[]\n",
      "[0, 0]\n"
     ]
    }
   ],
   "source": [
    "print([] * 2) # []\n",
    "print([0] * 2)  # [0, 0]\n"
   ]
  },
  {
   "cell_type": "code",
   "execution_count": 3,
   "metadata": {},
   "outputs": [
    {
     "name": "stdout",
     "output_type": "stream",
     "text": [
      "[1, 2, 3]\n"
     ]
    }
   ],
   "source": [
    "a = [1, 2, 3]\n",
    "d = [*a]\n",
    "print(d)"
   ]
  },
  {
   "cell_type": "code",
   "execution_count": 4,
   "metadata": {},
   "outputs": [
    {
     "name": "stdout",
     "output_type": "stream",
     "text": [
      "[2, 3]\n",
      "[1, 2]\n"
     ]
    }
   ],
   "source": [
    "a = [1, 2, 3]\n",
    "print(a[1:])  # [2, 3]\n",
    "print(a[:-1])  # [1, 2]\n"
   ]
  },
  {
   "cell_type": "code",
   "execution_count": 25,
   "metadata": {},
   "outputs": [],
   "source": [
    "### Numpy Array ###"
   ]
  },
  {
   "cell_type": "code",
   "execution_count": 26,
   "metadata": {},
   "outputs": [
    {
     "name": "stdout",
     "output_type": "stream",
     "text": [
      "[1. 2. 3.]\n"
     ]
    }
   ],
   "source": [
    "import numpy as np\n",
    "\n",
    "arr_a = np.array([3, 6, 9])\n",
    "arr_b = arr_a/3 # Performing vectorized (element-wise) operations \n",
    "print(arr_b)"
   ]
  },
  {
   "cell_type": "code",
   "execution_count": 27,
   "metadata": {},
   "outputs": [
    {
     "name": "stdout",
     "output_type": "stream",
     "text": [
      "[1. 1. 1. 1.]\n"
     ]
    }
   ],
   "source": [
    "arr_ones = np.ones(4)\n",
    "print(arr_ones)"
   ]
  },
  {
   "cell_type": "code",
   "execution_count": 28,
   "metadata": {
    "scrolled": true
   },
   "outputs": [
    {
     "name": "stdout",
     "output_type": "stream",
     "text": [
      "[[1. 1. 1. 1.]\n",
      " [1. 1. 1. 1.]\n",
      " [1. 1. 1. 1.]]\n"
     ]
    }
   ],
   "source": [
    "multi_arr_ones = np.ones((3,4)) # Creating 2D array with 3 rows and 4 columns\n",
    "print(multi_arr_ones)"
   ]
  },
  {
   "cell_type": "code",
   "execution_count": 8,
   "metadata": {},
   "outputs": [
    {
     "data": {
      "text/plain": [
       "array([1, 2, 3, 4, 5, 6])"
      ]
     },
     "execution_count": 8,
     "metadata": {},
     "output_type": "execute_result"
    }
   ],
   "source": [
    "a = np.array([1, 2, 3])\n",
    "b = np.array([4, 5, 6])\n",
    "np.concatenate((a, b))"
   ]
  },
  {
   "cell_type": "code",
   "execution_count": null,
   "metadata": {},
   "outputs": [],
   "source": []
  },
  {
   "cell_type": "code",
   "execution_count": null,
   "metadata": {},
   "outputs": [],
   "source": []
  },
  {
   "cell_type": "code",
   "execution_count": 29,
   "metadata": {},
   "outputs": [],
   "source": [
    "### Dictionary ###"
   ]
  },
  {
   "cell_type": "code",
   "execution_count": 30,
   "metadata": {},
   "outputs": [
    {
     "data": {
      "text/plain": [
       "{'Edward': 1, 'Jorge': 2, 'Prem': 3}"
      ]
     },
     "execution_count": 30,
     "metadata": {},
     "output_type": "execute_result"
    }
   ],
   "source": [
    "x_dict = {'Edward':1, 'Jorge':2, 'Prem':3, 'Joe':4}\n",
    "del x_dict['Joe']\n",
    "x_dict"
   ]
  },
  {
   "cell_type": "code",
   "execution_count": 31,
   "metadata": {},
   "outputs": [
    {
     "data": {
      "text/plain": [
       "3"
      ]
     },
     "execution_count": 31,
     "metadata": {},
     "output_type": "execute_result"
    }
   ],
   "source": [
    "len(x_dict)"
   ]
  },
  {
   "cell_type": "code",
   "execution_count": 32,
   "metadata": {},
   "outputs": [
    {
     "data": {
      "text/plain": [
       "dict_keys(['Edward', 'Jorge', 'Prem'])"
      ]
     },
     "execution_count": 32,
     "metadata": {},
     "output_type": "execute_result"
    }
   ],
   "source": [
    "x_dict.keys()"
   ]
  },
  {
   "cell_type": "code",
   "execution_count": 33,
   "metadata": {},
   "outputs": [
    {
     "data": {
      "text/plain": [
       "dict_values([1, 2, 3])"
      ]
     },
     "execution_count": 33,
     "metadata": {},
     "output_type": "execute_result"
    }
   ],
   "source": [
    "x_dict.values()"
   ]
  },
  {
   "cell_type": "code",
   "execution_count": 3,
   "metadata": {},
   "outputs": [
    {
     "name": "stdout",
     "output_type": "stream",
     "text": [
      "0\n",
      "dict_keys(['a', 'b'])\n"
     ]
    }
   ],
   "source": [
    "d = defaultdict(int)\n",
    "print(d['a'])\n",
    "c = d['b']\n",
    "print(d.keys()) # 'b' is in the key."
   ]
  },
  {
   "cell_type": "code",
   "execution_count": null,
   "metadata": {},
   "outputs": [],
   "source": []
  },
  {
   "cell_type": "code",
   "execution_count": null,
   "metadata": {},
   "outputs": [],
   "source": []
  },
  {
   "cell_type": "code",
   "execution_count": 34,
   "metadata": {},
   "outputs": [],
   "source": [
    "### Set ###"
   ]
  },
  {
   "cell_type": "code",
   "execution_count": 35,
   "metadata": {},
   "outputs": [
    {
     "name": "stdout",
     "output_type": "stream",
     "text": [
      "{'&', 'O', 'C', 'A', 'E', 'K'}\n"
     ]
    }
   ],
   "source": [
    "x_set = set('CAKE&COKE')\n",
    "print(x_set)"
   ]
  },
  {
   "cell_type": "code",
   "execution_count": 36,
   "metadata": {},
   "outputs": [
    {
     "name": "stdout",
     "output_type": "stream",
     "text": [
      "{'O', 'C', 'K', 'E', 'I'}\n"
     ]
    }
   ],
   "source": [
    "y_set = set('COOKIE')\n",
    "print(y_set) # Single unique 'O'"
   ]
  },
  {
   "cell_type": "code",
   "execution_count": 37,
   "metadata": {},
   "outputs": [
    {
     "name": "stdout",
     "output_type": "stream",
     "text": [
      "{'&', 'A'}\n"
     ]
    }
   ],
   "source": [
    "print(x_set - y_set) # All the elements in x_set but not in y_set"
   ]
  },
  {
   "cell_type": "code",
   "execution_count": 1,
   "metadata": {},
   "outputs": [
    {
     "name": "stdout",
     "output_type": "stream",
     "text": [
      "{2, 3}\n"
     ]
    }
   ],
   "source": [
    "a = set([1, 2, 3])\n",
    "b = a\n",
    "b.remove(1)\n",
    "print(a) # set b is not a copy of set a. "
   ]
  },
  {
   "cell_type": "code",
   "execution_count": 38,
   "metadata": {},
   "outputs": [],
   "source": [
    "### Stack ###"
   ]
  },
  {
   "cell_type": "code",
   "execution_count": 39,
   "metadata": {},
   "outputs": [
    {
     "name": "stdout",
     "output_type": "stream",
     "text": [
      "[1, 2, 3, 4, 5, 6]\n"
     ]
    }
   ],
   "source": [
    "# Bottom -> 1 -> 2 -> 3 -> 4 -> 5 (Top)\n",
    "stack = [1,2,3,4,5] \n",
    "stack.append(6) # Bottom -> 1 -> 2 -> 3 -> 4 -> 5 -> 6 (Top)\n",
    "print(stack)"
   ]
  },
  {
   "cell_type": "code",
   "execution_count": 40,
   "metadata": {},
   "outputs": [
    {
     "name": "stdout",
     "output_type": "stream",
     "text": [
      "[1, 2, 3, 4]\n"
     ]
    }
   ],
   "source": [
    "stack.pop() # Bottom -> 1 -> 2 -> 3 -> 4 -> 5 (Top)\n",
    "stack.pop() # Bottom -> 1 -> 2 -> 3 -> 4 (Top)\n",
    "print(stack)"
   ]
  },
  {
   "cell_type": "code",
   "execution_count": 9,
   "metadata": {},
   "outputs": [
    {
     "name": "stdout",
     "output_type": "stream",
     "text": [
      "a 0\n"
     ]
    }
   ],
   "source": [
    "stack = []\n",
    "stack.append(('a', 0))\n",
    "s, i = stack.pop()\n",
    "print(s, i)\n",
    "# temp = stack.pop()\n",
    "# s = temp[0]\n",
    "# i = temp[1]\n",
    "# print(s, i)\n"
   ]
  },
  {
   "cell_type": "code",
   "execution_count": 41,
   "metadata": {},
   "outputs": [],
   "source": [
    "### Graph ###"
   ]
  },
  {
   "cell_type": "code",
   "execution_count": 61,
   "metadata": {},
   "outputs": [
    {
     "name": "stdout",
     "output_type": "stream",
     "text": [
      "[('a', 'c'), ('a', 'd'), ('b', 'd'), ('b', 'e'), ('c', 'a'), ('c', 'e'), ('d', 'a'), ('d', 'b'), ('e', 'b'), ('e', 'c')]\n"
     ]
    }
   ],
   "source": [
    "graph = { \"a\" : [\"c\", \"d\"],\n",
    "          \"b\" : [\"d\", \"e\"],\n",
    "          \"c\" : [\"a\", \"e\"],\n",
    "          \"d\" : [\"a\", \"b\"],\n",
    "          \"e\" : [\"b\", \"c\"]\n",
    "        }\n",
    "\n",
    "def define_edges(graph):\n",
    "    edges = []\n",
    "    for vertice in graph:\n",
    "        for neighbour in graph[vertice]:\n",
    "            edges.append((vertice, neighbour))\n",
    "    return edges\n",
    "\n",
    "print(define_edges(graph))\n"
   ]
  },
  {
   "cell_type": "code",
   "execution_count": 62,
   "metadata": {},
   "outputs": [],
   "source": [
    "### Tree ###"
   ]
  },
  {
   "cell_type": "code",
   "execution_count": 63,
   "metadata": {},
   "outputs": [
    {
     "name": "stdout",
     "output_type": "stream",
     "text": [
      "1, Left child: 2, Left child: 2.1, Right child: 2.2, Right child: 3, Left child: 3.1, Right child: None\n"
     ]
    }
   ],
   "source": [
    "class Tree:\n",
    "    def __init__(self, info, left=None, right=None):\n",
    "        self.info = info\n",
    "        self.left  = left\n",
    "        self.right = right\n",
    "\n",
    "    def __str__(self):\n",
    "        return (str(self.info) + ', Left child: ' + str(self.left) + ', Right child: ' + str(self.right))\n",
    "\n",
    "tree = Tree(1, Tree(2, 2.1, 2.2), Tree(3, 3.1))\n",
    "print(tree)"
   ]
  },
  {
   "cell_type": "code",
   "execution_count": 64,
   "metadata": {},
   "outputs": [],
   "source": [
    "### Tuple ###"
   ]
  },
  {
   "cell_type": "code",
   "execution_count": 65,
   "metadata": {},
   "outputs": [
    {
     "data": {
      "text/plain": [
       "1"
      ]
     },
     "execution_count": 65,
     "metadata": {},
     "output_type": "execute_result"
    }
   ],
   "source": [
    "x_tuple = 1,2,3,4,5\n",
    "x_tuple[0]"
   ]
  },
  {
   "cell_type": "code",
   "execution_count": 66,
   "metadata": {},
   "outputs": [
    {
     "data": {
      "text/plain": [
       "'e'"
      ]
     },
     "execution_count": 66,
     "metadata": {},
     "output_type": "execute_result"
    }
   ],
   "source": [
    "y_tuple = ('c','a','k','e')\n",
    "y_tuple[3]"
   ]
  },
  {
   "cell_type": "code",
   "execution_count": 67,
   "metadata": {},
   "outputs": [],
   "source": [
    "# Error\n",
    "# x_tuple[0] = 0 # Cannot change values inside a tuple"
   ]
  },
  {
   "cell_type": "code",
   "execution_count": 68,
   "metadata": {},
   "outputs": [
    {
     "name": "stdout",
     "output_type": "stream",
     "text": [
      "{'&', 'O', 'C', 'I', 'A', 'E', 'K'}\n"
     ]
    }
   ],
   "source": [
    "### Union ###\n",
    "print(x_set | y_set) # Unique elements in x_set or y_set or both"
   ]
  },
  {
   "cell_type": "code",
   "execution_count": 69,
   "metadata": {},
   "outputs": [
    {
     "name": "stdout",
     "output_type": "stream",
     "text": [
      "{'C', 'O', 'K', 'E'}\n"
     ]
    }
   ],
   "source": [
    "### Intersection ###\n",
    "print(x_set & y_set) # Elements in both x_set and y_set"
   ]
  },
  {
   "cell_type": "code",
   "execution_count": 70,
   "metadata": {},
   "outputs": [
    {
     "data": {
      "text/plain": [
       "2"
      ]
     },
     "execution_count": 70,
     "metadata": {},
     "output_type": "execute_result"
    }
   ],
   "source": [
    "### Boolean ###\n",
    "a = 2 or 3\n",
    "a"
   ]
  },
  {
   "cell_type": "code",
   "execution_count": 71,
   "metadata": {},
   "outputs": [
    {
     "data": {
      "text/plain": [
       "4"
      ]
     },
     "execution_count": 71,
     "metadata": {},
     "output_type": "execute_result"
    }
   ],
   "source": [
    "a = None or 4\n",
    "a"
   ]
  },
  {
   "cell_type": "code",
   "execution_count": 72,
   "metadata": {},
   "outputs": [
    {
     "data": {
      "text/plain": [
       "3"
      ]
     },
     "execution_count": 72,
     "metadata": {},
     "output_type": "execute_result"
    }
   ],
   "source": [
    "a = bool(None) or 3\n",
    "a"
   ]
  },
  {
   "cell_type": "code",
   "execution_count": 73,
   "metadata": {},
   "outputs": [
    {
     "data": {
      "text/plain": [
       "False"
      ]
     },
     "execution_count": 73,
     "metadata": {},
     "output_type": "execute_result"
    }
   ],
   "source": [
    "bool(None)"
   ]
  },
  {
   "cell_type": "code",
   "execution_count": 74,
   "metadata": {},
   "outputs": [],
   "source": [
    "# Error\n",
    "# a = int(None) or 5\n",
    "# a"
   ]
  },
  {
   "cell_type": "code",
   "execution_count": 75,
   "metadata": {},
   "outputs": [
    {
     "data": {
      "text/plain": [
       "True"
      ]
     },
     "execution_count": 75,
     "metadata": {},
     "output_type": "execute_result"
    }
   ],
   "source": [
    "a = bool(\"False\")\n",
    "a"
   ]
  },
  {
   "cell_type": "code",
   "execution_count": 76,
   "metadata": {},
   "outputs": [
    {
     "data": {
      "text/plain": [
       "True"
      ]
     },
     "execution_count": 76,
     "metadata": {},
     "output_type": "execute_result"
    }
   ],
   "source": [
    "bool(10)"
   ]
  },
  {
   "cell_type": "code",
   "execution_count": 77,
   "metadata": {},
   "outputs": [
    {
     "data": {
      "text/plain": [
       "False"
      ]
     },
     "execution_count": 77,
     "metadata": {},
     "output_type": "execute_result"
    }
   ],
   "source": [
    "bool(0)"
   ]
  },
  {
   "cell_type": "code",
   "execution_count": 78,
   "metadata": {},
   "outputs": [
    {
     "data": {
      "text/plain": [
       "True"
      ]
     },
     "execution_count": 78,
     "metadata": {},
     "output_type": "execute_result"
    }
   ],
   "source": [
    "bool(1)"
   ]
  },
  {
   "cell_type": "code",
   "execution_count": 80,
   "metadata": {},
   "outputs": [
    {
     "name": "stdout",
     "output_type": "stream",
     "text": [
      "True\n"
     ]
    }
   ],
   "source": [
    "x = False\n",
    "y = False\n",
    "z = True\n",
    "b = x or y or z\n",
    "print(b)"
   ]
  },
  {
   "cell_type": "code",
   "execution_count": 4,
   "metadata": {},
   "outputs": [
    {
     "name": "stdout",
     "output_type": "stream",
     "text": [
      "False\n",
      "True\n",
      "False\n"
     ]
    }
   ],
   "source": [
    "a = []\n",
    "def fun(d):\n",
    "    if d:\n",
    "        print(True)\n",
    "    else:\n",
    "        print(False)\n",
    "\n",
    "a = []\n",
    "fun(a)\n",
    "b = list('123')\n",
    "fun(b)\n",
    "c = list()\n",
    "fun(c)\n"
   ]
  },
  {
   "cell_type": "code",
   "execution_count": 9,
   "metadata": {},
   "outputs": [
    {
     "name": "stdout",
     "output_type": "stream",
     "text": [
      "True\n",
      "True\n",
      "True\n",
      "True\n",
      "False\n"
     ]
    }
   ],
   "source": [
    "a = [1]\n",
    "print(bool(a))\n",
    "a = [0]\n",
    "print(bool(a))\n",
    "a = [-1]\n",
    "print(bool(a))\n",
    "a = [np.nan]\n",
    "print(bool(a)) # True\n",
    "a = [] # An empty list returns False.\n",
    "print(bool(a)) # False"
   ]
  },
  {
   "cell_type": "code",
   "execution_count": 11,
   "metadata": {},
   "outputs": [
    {
     "name": "stdout",
     "output_type": "stream",
     "text": [
      "1\n",
      "0\n"
     ]
    }
   ],
   "source": [
    "print(int(True))\n",
    "print(int(False))"
   ]
  },
  {
   "cell_type": "code",
   "execution_count": 2,
   "metadata": {},
   "outputs": [
    {
     "name": "stdout",
     "output_type": "stream",
     "text": [
      "True\n",
      "True\n",
      "False\n",
      "True\n",
      "False\n",
      "False\n",
      "1\n",
      "0\n"
     ]
    }
   ],
   "source": [
    "# 'not x' returns True if x is None or x is an empty list.  \n",
    "a = None\n",
    "print(a is None) # True\n",
    "print(not a) # True\n",
    "b = []\n",
    "print(b is None)  # False\n",
    "print(not b)  # True\n",
    "# a[0] # index out of range\n",
    "print(bool(b)) # False\n",
    "c = [[]]\n",
    "print(not c) # False (because c is not an empty list)\n",
    "R, C = len(c), len(c[0])\n",
    "print(R) # 1\n",
    "print(C) # 0\n"
   ]
  },
  {
   "cell_type": "code",
   "execution_count": null,
   "metadata": {},
   "outputs": [],
   "source": [
    "### Binary Search ###"
   ]
  },
  {
   "cell_type": "code",
   "execution_count": 4,
   "metadata": {},
   "outputs": [
    {
     "data": {
      "text/plain": [
       "3"
      ]
     },
     "execution_count": 4,
     "metadata": {},
     "output_type": "execute_result"
    }
   ],
   "source": [
    "a = [0, 1, 2, 7, 8, 9]\n",
    "idx = np.searchsorted(a, 5)\n",
    "idx"
   ]
  },
  {
   "cell_type": "code",
   "execution_count": null,
   "metadata": {},
   "outputs": [],
   "source": []
  },
  {
   "cell_type": "code",
   "execution_count": null,
   "metadata": {},
   "outputs": [],
   "source": []
  },
  {
   "cell_type": "code",
   "execution_count": 81,
   "metadata": {},
   "outputs": [],
   "source": [
    "### Others ###"
   ]
  },
  {
   "cell_type": "code",
   "execution_count": 82,
   "metadata": {},
   "outputs": [
    {
     "name": "stdout",
     "output_type": "stream",
     "text": [
      "/Users/kei/anaconda3/bin/python\n"
     ]
    }
   ],
   "source": [
    "!which python"
   ]
  },
  {
   "cell_type": "code",
   "execution_count": 83,
   "metadata": {},
   "outputs": [],
   "source": [
    "# Error\n",
    "# a, b = [0, 1, 2, 3]\n",
    "# print('a:', a)\n",
    "# print('b:', b)"
   ]
  },
  {
   "cell_type": "code",
   "execution_count": 2,
   "metadata": {},
   "outputs": [
    {
     "name": "stdout",
     "output_type": "stream",
     "text": [
      "3\n",
      "3\n",
      "-1\n"
     ]
    }
   ],
   "source": [
    "# modulo\n",
    "n = -23\n",
    "print(n % 26) # 3\n",
    "print(n - n // 26 * 26) # 3\n",
    "print(n // 26) # -1"
   ]
  },
  {
   "cell_type": "code",
   "execution_count": 2,
   "metadata": {},
   "outputs": [],
   "source": [
    "a = 1\n",
    "b = None\n",
    "# print(a >= b) # TypeError"
   ]
  },
  {
   "cell_type": "code",
   "execution_count": 4,
   "metadata": {},
   "outputs": [
    {
     "data": {
      "text/plain": [
       "nan"
      ]
     },
     "execution_count": 4,
     "metadata": {},
     "output_type": "execute_result"
    }
   ],
   "source": [
    "### heap ###"
   ]
  },
  {
   "cell_type": "code",
   "execution_count": 5,
   "metadata": {},
   "outputs": [
    {
     "name": "stdout",
     "output_type": "stream",
     "text": [
      "City6\n",
      "City7\n",
      "City8\n",
      "City3\n",
      "City5\n",
      "City1\n",
      "City4\n",
      "City2\n"
     ]
    }
   ],
   "source": [
    "# Example Python program that finds the largest n elements\n",
    "# from a Python iterable\n",
    "\n",
    "import heapq\n",
    "\n",
    "# Define a function that returns a comparison key for city objects\n",
    "def sortkey(city):\n",
    "    return city.population\n",
    "\n",
    "# Define a City class\n",
    "class City:\n",
    "\n",
    "    def __init__(self, id, name, population):\n",
    "        self.id = id\n",
    "        self.name = name\n",
    "        self.population = population\n",
    "\n",
    "    def __str__(self):        \n",
    "        return self.name\n",
    "\n",
    "# Create instances of City class\n",
    "c1 = City(1, \"City1\", 1500)       \n",
    "c2 = City(2, \"City2\", 1100)      \n",
    "c3 = City(3, \"City3\", 1700)        \n",
    "c4 = City(4, \"City4\", 1200)       \n",
    "c5 = City(5, \"City5\", 1600)\n",
    "c6 = City(6, \"City6\", 2200)\n",
    "c7 = City(7, \"City7\", 2200)\n",
    "c8 = City(8, \"City8\", 2200)\n",
    "\n",
    "# Make a list of City instances\n",
    "cities = [c1, c2, c3, c4, c5, c6, c7, c8]\n",
    "\n",
    "# Find three most populated cities\n",
    "mostPopulated = heapq.nlargest(10, cities, key=sortkey)\n",
    "\n",
    "# Print three most populated cities\n",
    "for city in mostPopulated:\n",
    "    print(city)\n"
   ]
  },
  {
   "cell_type": "code",
   "execution_count": null,
   "metadata": {},
   "outputs": [],
   "source": []
  },
  {
   "cell_type": "code",
   "execution_count": null,
   "metadata": {},
   "outputs": [],
   "source": []
  },
  {
   "cell_type": "code",
   "execution_count": null,
   "metadata": {},
   "outputs": [],
   "source": []
  },
  {
   "cell_type": "code",
   "execution_count": null,
   "metadata": {},
   "outputs": [],
   "source": []
  },
  {
   "cell_type": "code",
   "execution_count": null,
   "metadata": {},
   "outputs": [],
   "source": []
  },
  {
   "cell_type": "code",
   "execution_count": null,
   "metadata": {},
   "outputs": [],
   "source": []
  },
  {
   "cell_type": "code",
   "execution_count": null,
   "metadata": {},
   "outputs": [],
   "source": []
  },
  {
   "cell_type": "code",
   "execution_count": null,
   "metadata": {},
   "outputs": [],
   "source": []
  }
 ],
 "metadata": {
  "interpreter": {
   "hash": "ce8ebf87d87a8784365ab193ed3c1c69a65c4d44ee29225ae12c717fedf82127"
  },
  "kernelspec": {
   "display_name": "Python 3.7.9 64-bit ('data_structure_and_algo')",
   "language": "python",
   "name": "python3"
  },
  "language_info": {
   "codemirror_mode": {
    "name": "ipython",
    "version": 3
   },
   "file_extension": ".py",
   "mimetype": "text/x-python",
   "name": "python",
   "nbconvert_exporter": "python",
   "pygments_lexer": "ipython3",
   "version": "3.7.9"
  }
 },
 "nbformat": 4,
 "nbformat_minor": 1
}
